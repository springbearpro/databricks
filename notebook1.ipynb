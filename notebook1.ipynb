# Databricks notebook source

print("I am a notebook")

# COMMAND ----------
